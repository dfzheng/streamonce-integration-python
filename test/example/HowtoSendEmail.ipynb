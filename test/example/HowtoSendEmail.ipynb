{
 "cells": [
  {
   "cell_type": "code",
   "execution_count": 3,
   "metadata": {
    "collapsed": false
   },
   "outputs": [
    {
     "ename": "ImportError",
     "evalue": "No module named 'CheckEmailHelper'",
     "traceback": [
      "\u001b[0;31m---------------------------------------------------------------------------\u001b[0m",
      "\u001b[0;31mImportError\u001b[0m                               Traceback (most recent call last)",
      "\u001b[0;32m<ipython-input-3-2894684f2146>\u001b[0m in \u001b[0;36m<module>\u001b[0;34m()\u001b[0m\n\u001b[1;32m     12\u001b[0m \u001b[0;32mimport\u001b[0m \u001b[0mpdb\u001b[0m\u001b[0;34m\u001b[0m\u001b[0m\n\u001b[1;32m     13\u001b[0m \u001b[0;32mfrom\u001b[0m \u001b[0mbs4\u001b[0m \u001b[0;32mimport\u001b[0m \u001b[0mBeautifulSoup\u001b[0m\u001b[0;34m\u001b[0m\u001b[0m\n\u001b[0;32m---> 14\u001b[0;31m \u001b[0;32mfrom\u001b[0m \u001b[0mCheckEmailHelper\u001b[0m \u001b[0;32mimport\u001b[0m \u001b[0mCheckEmailHelper\u001b[0m\u001b[0;34m\u001b[0m\u001b[0m\n\u001b[0m",
      "\u001b[0;31mImportError\u001b[0m: No module named 'CheckEmailHelper'"
     ],
     "output_type": "error"
    }
   ],
   "source": [
    "import smtplib\n",
    "from email.mime.image       import MIMEImage\n",
    "from email.mime.multipart   import MIMEMultipart\n",
    "from email.mime.text        import MIMEText\n",
    "from email.mime.message     import MIMEMessage\n",
    "from email.mime.application import MIMEApplication\n",
    "from os.path import basename\n",
    "import email\n",
    "import os, json\n",
    "import uuid\n",
    "import re\n",
    "import pdb\n",
    "from bs4 import BeautifulSoup\n",
    "from CheckEmailHelper import CheckEmailHelper"
   ]
  },
  {
   "cell_type": "code",
   "execution_count": 4,
   "metadata": {
    "collapsed": true
   },
   "outputs": [],
   "source": [
    ""
   ]
  },
  {
   "cell_type": "code",
   "execution_count": 4,
   "metadata": {
    "collapsed": false
   },
   "outputs": [
    {
     "name": "stdout",
     "output_type": "stream",
     "text": [
      "{'User5': {'twoStep': '', 'password': '', 'id': '', 'username': '', 'displayName': '', 'email': '', 'alias': '', 'googlePassword': ''}, 'User2': {'twoStep': '', 'password': '', 'id': '', 'username': '', 'displayName': '', 'email': '', 'alias': '', 'googlePassword': ''}, 'jiveAdmin': {'password': '', 'id': '', 'username': '', 'displayName': ''}, 'GoogleAdmin': {'password': '', 'username': ''}, 'User3': {'twoStep': '', 'password': '', 'id': '', 'username': '', 'displayName': '', 'email': '', 'alias': '', 'googlePassword': ''}, 'User4': {'twoStep': '', 'password': '', 'id': '', 'username': '', 'displayName': '', 'email': '', 'alias': '', 'googlePassword': ''}, 'User1': {'twoStep': '', 'password': '', 'id': '', 'username': '', 'displayName': '', 'email': '', 'alias': '', 'googlePassword': ''}}\n"
     ]
    }
   ],
   "source": [
    "HOST = 'imap.gmail.com'\n",
    "directory =\"/Users/wxji/Documents/Connect/streamonce-integration-python\"\n",
    "\n",
    "with open(directory + '/env.json') as json_data:  # os.getcwd() Return the current working directory\n",
    "    env = json.load(json_data)\n",
    "    apiUrl = env[\"jive\"][\"apiBaseUrl\"]\n",
    "\n",
    "with open(directory + '/accounts.json') as json_data:\n",
    "    account = json.load(json_data)\n",
    "\n",
    "     \n",
    "print(account)\n",
    "# print(file）"
   ]
  },
  {
   "cell_type": "code",
   "execution_count": 5,
   "metadata": {
    "collapsed": false
   },
   "outputs": [
    {
     "ename": "NameError",
     "evalue": "name 'CheckEmailHelper' is not defined",
     "traceback": [
      "\u001b[0;31m---------------------------------------------------------------------------\u001b[0m",
      "\u001b[0;31mNameError\u001b[0m                                 Traceback (most recent call last)",
      "\u001b[0;32m<ipython-input-5-7b59028b6ad5>\u001b[0m in \u001b[0;36m<module>\u001b[0;34m()\u001b[0m\n\u001b[1;32m      4\u001b[0m \u001b[0;31m# groupEmail = 'CNC3 Tester3 <cnctester3@dev.thoughtworks.com'\u001b[0m\u001b[0;34m\u001b[0m\u001b[0;34m\u001b[0m\u001b[0m\n\u001b[1;32m      5\u001b[0m \u001b[0;34m\u001b[0m\u001b[0m\n\u001b[0;32m----> 6\u001b[0;31m \u001b[0mOrigin\u001b[0m \u001b[0;34m=\u001b[0m \u001b[0mCheckEmailHelper\u001b[0m\u001b[0;34m.\u001b[0m\u001b[0mfindEmailBySubject\u001b[0m\u001b[0;34m(\u001b[0m\u001b[0maccount\u001b[0m\u001b[0;34m[\u001b[0m\u001b[0;34m\"User1\"\u001b[0m\u001b[0;34m]\u001b[0m\u001b[0;34m,\u001b[0m\u001b[0morigin_Subject\u001b[0m\u001b[0;34m,\u001b[0m \u001b[0mgroupEmail\u001b[0m\u001b[0;34m)\u001b[0m\u001b[0;34m\u001b[0m\u001b[0m\n\u001b[0m",
      "\u001b[0;31mNameError\u001b[0m: name 'CheckEmailHelper' is not defined"
     ],
     "output_type": "error"
    }
   ],
   "source": [
    "#origin_Subject=\"Test Reply Email with image attachment\"\n",
    "origin_Subject=\"Send Email with image attachment Fri Mar 3 17:11:17 CST 2017\"\n",
    "groupEmail = 'feb-sissy-manualtest <feb-sissy-manualtest@dev.thoughtworks.com>';\n",
    "# groupEmail = 'CNC3 Tester3 <cnctester3@dev.thoughtworks.com'\n",
    "\n",
    "Origin = CheckEmailHelper.findEmailBySubject(account[\"User1\"],origin_Subject, groupEmail)"
   ]
  },
  {
   "cell_type": "code",
   "execution_count": 6,
   "metadata": {
    "collapsed": false
   },
   "outputs": [
    {
     "ename": "FileNotFoundError",
     "evalue": "[Errno 2] No such file or directory: '/Users/wxji/Documents/Connect/streamonce-integration-python/test/example/doc_attach'",
     "traceback": [
      "\u001b[0;31m---------------------------------------------------------------------------\u001b[0m",
      "\u001b[0;31mFileNotFoundError\u001b[0m                         Traceback (most recent call last)",
      "\u001b[0;32m<ipython-input-6-2de2ddb0259e>\u001b[0m in \u001b[0;36m<module>\u001b[0;34m()\u001b[0m\n\u001b[1;32m     11\u001b[0m }]\n\u001b[1;32m     12\u001b[0m \u001b[0;34m\u001b[0m\u001b[0m\n\u001b[0;32m---> 13\u001b[0;31m \u001b[0mfile\u001b[0m \u001b[0;34m=\u001b[0m \u001b[0mopen\u001b[0m \u001b[0;34m(\u001b[0m\u001b[0mdirectory\u001b[0m \u001b[0;34m+\u001b[0m \u001b[0;34m'/test/example/doc_attach'\u001b[0m\u001b[0;34m)\u001b[0m\u001b[0;34m\u001b[0m\u001b[0m\n\u001b[0m\u001b[1;32m     14\u001b[0m \u001b[0;34m\u001b[0m\u001b[0m\n\u001b[1;32m     15\u001b[0m HTML=\"\"\"\n",
      "\u001b[0;31mFileNotFoundError\u001b[0m: [Errno 2] No such file or directory: '/Users/wxji/Documents/Connect/streamonce-integration-python/test/example/doc_attach'"
     ],
     "output_type": "error"
    }
   ],
   "source": [
    "From=account[\"User1\"]\n",
    "To=account[\"User3\"]\n",
    "Cc=groupEmail\n",
    "Preamble=\"\"\n",
    "TEXT=\"\"\n",
    "ImageName = \"thumb.jpg\"\n",
    "Images = [{\n",
    "    \"doUpload\": True,\n",
    "    \"name\": ImageName,\n",
    "    \"path\": directory+\"/test/asserts/thumb.jpg\"\n",
    "}]\n",
    "\n",
    "file = open (directory + '/test/example/doc_attach')\n",
    "\n",
    "HTML=\"\"\"\n",
    "<html>\n",
    "<body>\n",
    "<div>\n",
    "<p>Reply from cnctester1 in Email with attachment! </p>\n",
    "<p>Thank you!</p>\n",
    "</div>\n",
    "</body></html>\"\"\"\n",
    "\n",
    "ReplyTo=[]\n",
    "useAlias = False"
   ]
  },
  {
   "cell_type": "code",
   "execution_count": 7,
   "metadata": {
    "collapsed": false
   },
   "outputs": [
    {
     "data": {
      "text/plain": [
       "'a'"
      ]
     },
     "execution_count": 7,
     "metadata": {},
     "output_type": "execute_result"
    }
   ],
   "source": [
    "BeautifulSoup('<div>a</div>', 'html.parser').text"
   ]
  },
  {
   "cell_type": "code",
   "execution_count": 8,
   "metadata": {
    "collapsed": false
   },
   "outputs": [
    {
     "ename": "NameError",
     "evalue": "name 'Origin' is not defined",
     "traceback": [
      "\u001b[0;31m---------------------------------------------------------------------------\u001b[0m",
      "\u001b[0;31mNameError\u001b[0m                                 Traceback (most recent call last)",
      "\u001b[0;32m<ipython-input-8-0ebfcf49b114>\u001b[0m in \u001b[0;36m<module>\u001b[0;34m()\u001b[0m\n\u001b[0;32m----> 1\u001b[0;31m \u001b[0mprint\u001b[0m\u001b[0;34m(\u001b[0m\u001b[0mOrigin\u001b[0m\u001b[0;34m.\u001b[0m\u001b[0mas_string\u001b[0m\u001b[0;34m(\u001b[0m\u001b[0;34m)\u001b[0m\u001b[0;34m)\u001b[0m\u001b[0;34m\u001b[0m\u001b[0m\n\u001b[0m",
      "\u001b[0;31mNameError\u001b[0m: name 'Origin' is not defined"
     ],
     "output_type": "error"
    }
   ],
   "source": [
    "print(Origin.as_string())"
   ]
  },
  {
   "cell_type": "code",
   "execution_count": 9,
   "metadata": {
    "collapsed": false,
    "scrolled": false
   },
   "outputs": [
    {
     "ename": "NameError",
     "evalue": "name 'Origin' is not defined",
     "traceback": [
      "\u001b[0;31m---------------------------------------------------------------------------\u001b[0m",
      "\u001b[0;31mNameError\u001b[0m                                 Traceback (most recent call last)",
      "\u001b[0;32m<ipython-input-9-ed554809e54c>\u001b[0m in \u001b[0;36m<module>\u001b[0;34m()\u001b[0m\n\u001b[1;32m     10\u001b[0m \u001b[0;32melse\u001b[0m \u001b[0;34m:\u001b[0m\u001b[0;34m\u001b[0m\u001b[0m\n\u001b[1;32m     11\u001b[0m     \u001b[0;32mimport\u001b[0m \u001b[0mquopri\u001b[0m \u001b[0;32mas\u001b[0m \u001b[0mqp\u001b[0m\u001b[0;34m\u001b[0m\u001b[0m\n\u001b[0;32m---> 12\u001b[0;31m     \u001b[0morigin_html\u001b[0m \u001b[0;34m=\u001b[0m \u001b[0mstr\u001b[0m\u001b[0;34m(\u001b[0m\u001b[0mqp\u001b[0m\u001b[0;34m.\u001b[0m\u001b[0mdecodestring\u001b[0m\u001b[0;34m(\u001b[0m\u001b[0mOrigin\u001b[0m\u001b[0;34m.\u001b[0m\u001b[0mget_payload\u001b[0m\u001b[0;34m(\u001b[0m\u001b[0;34m)\u001b[0m\u001b[0;34m[\u001b[0m\u001b[0;36m0\u001b[0m\u001b[0;34m]\u001b[0m\u001b[0;34m.\u001b[0m\u001b[0m_payload\u001b[0m\u001b[0;34m[\u001b[0m\u001b[0;36m1\u001b[0m\u001b[0;34m]\u001b[0m\u001b[0;34m.\u001b[0m\u001b[0m_payload\u001b[0m\u001b[0;34m)\u001b[0m\u001b[0;34m,\u001b[0m \u001b[0;34m'utf-8'\u001b[0m\u001b[0;34m)\u001b[0m\u001b[0;34m\u001b[0m\u001b[0m\n\u001b[0m\u001b[1;32m     13\u001b[0m     \u001b[0mreply_html\u001b[0m \u001b[0;34m=\u001b[0m \u001b[0mHTML\u001b[0m\u001b[0;34m\u001b[0m\u001b[0m\n\u001b[1;32m     14\u001b[0m     \u001b[0mcompressed_origin_html\u001b[0m \u001b[0;34m=\u001b[0m \u001b[0;34m'<div class=\"gmail_extra\"><div class=\"gmail_quote\"><blockquote class=\"gmail_quote\" style=\"margin:0 0 0 .8ex;border-left:1px #ccc solid;padding-left:1ex\">'\u001b[0m\u001b[0;34m\u001b[0m\u001b[0m\n",
      "\u001b[0;31mNameError\u001b[0m: name 'Origin' is not defined"
     ],
     "output_type": "error"
    }
   ],
   "source": [
    "email.charset.add_charset('utf-8', email.charset.SHORTEST, email.charset.QP)\n",
    "new_text = \"\"\n",
    "new_html = \"\"\n",
    "#print (TEXT)\n",
    "\n",
    "if TEXT!=\"\" and HTML!=\"\":\n",
    "    new_text = TEXT\n",
    "    new_html = HTML\n",
    "    print('no')\n",
    "else :\n",
    "    import quopri as qp\n",
    "    origin_html = str(qp.decodestring(Origin.get_payload()[0]._payload[1]._payload), 'utf-8')\n",
    "    reply_html = HTML\n",
    "    compressed_origin_html = '<div class=\"gmail_extra\"><div class=\"gmail_quote\"><blockquote class=\"gmail_quote\" style=\"margin:0 0 0 .8ex;border-left:1px #ccc solid;padding-left:1ex\">'\n",
    "    compressed_origin_html += origin_html + '</blockquote></div></div>'\n",
    "    new_html = reply_html + compressed_origin_html\n",
    "\n",
    "    reply_doc = BeautifulSoup(reply_html, 'html.parser')   #BeautifulSoup is to pull data from HTML&XML\n",
    "    \n",
    "    origin_doc = BeautifulSoup(origin_html, 'html.parser')\n",
    "    #拼回复信的所有text\n",
    "    reply_text = reply_doc.text\n",
    "    origin_text = re.sub('\\n', '\\n> ', \"\\n\\n\" + origin_doc.text)\n",
    "\n",
    "    new_text = reply_text + origin_text\n",
    "\n",
    "\n",
    "print(origin_html)"
   ]
  },
  {
   "cell_type": "code",
   "execution_count": 10,
   "metadata": {
    "collapsed": false
   },
   "outputs": [
    {
     "data": {
      "text/plain": [
       "''"
      ]
     },
     "execution_count": 10,
     "metadata": {},
     "output_type": "execute_result"
    }
   ],
   "source": [
    "new_text"
   ]
  },
  {
   "cell_type": "code",
   "execution_count": 11,
   "metadata": {
    "collapsed": false
   },
   "outputs": [
    {
     "name": "stdout",
     "output_type": "stream",
     "text": [
      "Sending mail From:  , Subject: Send Email with image attachment Fri Mar 3 17:11:17 CST 2017\n"
     ]
    },
    {
     "ename": "NameError",
     "evalue": "name 'Origin' is not defined",
     "traceback": [
      "\u001b[0;31m---------------------------------------------------------------------------\u001b[0m",
      "\u001b[0;31mNameError\u001b[0m                                 Traceback (most recent call last)",
      "\u001b[0;32m<ipython-input-11-2cebcefc4ad6>\u001b[0m in \u001b[0;36m<module>\u001b[0;34m()\u001b[0m\n\u001b[1;32m      7\u001b[0m \u001b[0mprint\u001b[0m\u001b[0;34m(\u001b[0m\u001b[0;34m'Sending mail From: %s , Subject: %s'\u001b[0m \u001b[0;34m%\u001b[0m \u001b[0;34m(\u001b[0m\u001b[0mFrom\u001b[0m\u001b[0;34m[\u001b[0m\u001b[0;34m\"email\"\u001b[0m\u001b[0;34m]\u001b[0m\u001b[0;34m,\u001b[0m \u001b[0morigin_Subject\u001b[0m\u001b[0;34m)\u001b[0m\u001b[0;34m)\u001b[0m\u001b[0;34m\u001b[0m\u001b[0m\n\u001b[1;32m      8\u001b[0m \u001b[0;34m\u001b[0m\u001b[0m\n\u001b[0;32m----> 9\u001b[0;31m \u001b[0;32mfor\u001b[0m \u001b[0mxpart\u001b[0m \u001b[0;32min\u001b[0m \u001b[0mOrigin\u001b[0m\u001b[0;34m.\u001b[0m\u001b[0mwalk\u001b[0m\u001b[0;34m(\u001b[0m\u001b[0;34m)\u001b[0m\u001b[0;34m:\u001b[0m\u001b[0;34m\u001b[0m\u001b[0m\n\u001b[0m\u001b[1;32m     10\u001b[0m     if (xpart.get('Content-Disposition')\n\u001b[1;32m     11\u001b[0m         and xpart.get('Content-Disposition').startswith(\"attachment\")):\n",
      "\u001b[0;31mNameError\u001b[0m: name 'Origin' is not defined"
     ],
     "output_type": "error"
    }
   ],
   "source": [
    "text_block = MIMEText(new_text, 'plain', _charset='utf-8')\n",
    "html_block = MIMEText(new_html, 'html', 'utf-8')\n",
    "\n",
    "del html_block['Content-Transfer-Encoding']\n",
    "html_block['Content-Transfer-Encoding'] = 'quoted-printable'\n",
    "\n",
    "print('Sending mail From: %s , Subject: %s' % (From[\"email\"], origin_Subject))\n",
    "\n",
    "for xpart in Origin.walk():\n",
    "    if (xpart.get('Content-Disposition')\n",
    "        and xpart.get('Content-Disposition').startswith(\"attachment\")):\n",
    "\n",
    "        xpart.set_type(\"text/plain\")\n",
    "        xpart.set_payload(\"Attachment removed: %s (%s, %d bytes)\"\n",
    "                         %(xpart.get_filename(),\n",
    "                           xpart.get_content_type(),\n",
    "                           len(xpart.get_payload(decode=True))))\n",
    "        del xpart[\"Content-Disposition\"]\n",
    "        del xpart[\"Content-Transfer-Encoding\"]\n",
    "\n",
    "print(html_block.get_payload())"
   ]
  },
  {
   "cell_type": "code",
   "execution_count": 12,
   "metadata": {
    "collapsed": false
   },
   "outputs": [
    {
     "ename": "NameError",
     "evalue": "name 'Origin' is not defined",
     "traceback": [
      "\u001b[0;31m---------------------------------------------------------------------------\u001b[0m",
      "\u001b[0;31mNameError\u001b[0m                                 Traceback (most recent call last)",
      "\u001b[0;32m<ipython-input-12-6c88772a1261>\u001b[0m in \u001b[0;36m<module>\u001b[0;34m()\u001b[0m\n\u001b[1;32m      1\u001b[0m \u001b[0mnew_block\u001b[0m \u001b[0;34m=\u001b[0m \u001b[0mMIMEMultipart\u001b[0m\u001b[0;34m(\u001b[0m\u001b[0;34m)\u001b[0m\u001b[0;34m\u001b[0m\u001b[0m\n\u001b[1;32m      2\u001b[0m \u001b[0mnew_block\u001b[0m\u001b[0;34m[\u001b[0m\u001b[0;34m\"Message-ID\"\u001b[0m\u001b[0;34m]\u001b[0m \u001b[0;34m=\u001b[0m \u001b[0memail\u001b[0m\u001b[0;34m.\u001b[0m\u001b[0mutils\u001b[0m\u001b[0;34m.\u001b[0m\u001b[0mmake_msgid\u001b[0m\u001b[0;34m(\u001b[0m\u001b[0;34m)\u001b[0m   \u001b[0;31m#生成新的messageid\u001b[0m\u001b[0;34m\u001b[0m\u001b[0m\n\u001b[0;32m----> 3\u001b[0;31m \u001b[0mnew_block\u001b[0m\u001b[0;34m[\u001b[0m\u001b[0;34m\"In-Reply-To\"\u001b[0m\u001b[0;34m]\u001b[0m \u001b[0;34m=\u001b[0m \u001b[0mOrigin\u001b[0m\u001b[0;34m[\u001b[0m\u001b[0;34m\"Message-ID\"\u001b[0m\u001b[0;34m]\u001b[0m\u001b[0;34m\u001b[0m\u001b[0m\n\u001b[0m\u001b[1;32m      4\u001b[0m \u001b[0mnew_block\u001b[0m\u001b[0;34m[\u001b[0m\u001b[0;34m\"References\"\u001b[0m\u001b[0;34m]\u001b[0m \u001b[0;34m=\u001b[0m \u001b[0mOrigin\u001b[0m\u001b[0;34m[\u001b[0m\u001b[0;34m\"Message-ID\"\u001b[0m\u001b[0;34m]\u001b[0m\u001b[0;34m\u001b[0m\u001b[0m\n\u001b[1;32m      5\u001b[0m \u001b[0mnew_block\u001b[0m\u001b[0;34m[\u001b[0m\u001b[0;34m\"Subject\"\u001b[0m\u001b[0;34m]\u001b[0m \u001b[0;34m=\u001b[0m \u001b[0;34m\"Re: \"\u001b[0m\u001b[0;34m+\u001b[0m\u001b[0mOrigin\u001b[0m\u001b[0;34m[\u001b[0m\u001b[0;34m\"Subject\"\u001b[0m\u001b[0;34m]\u001b[0m\u001b[0;34m\u001b[0m\u001b[0m\n",
      "\u001b[0;31mNameError\u001b[0m: name 'Origin' is not defined"
     ],
     "output_type": "error"
    }
   ],
   "source": [
    "new_block = MIMEMultipart()\n",
    "new_block[\"Message-ID\"] = email.utils.make_msgid()   #生成新的messageid\n",
    "new_block[\"In-Reply-To\"] = Origin[\"Message-ID\"]\n",
    "new_block[\"References\"] = Origin[\"Message-ID\"]\n",
    "new_block[\"Subject\"] = \"Re: \"+Origin[\"Subject\"]\n",
    "new_block[\"To\"] = new_block[\"Reply-To\"] = Origin[\"Reply-To\"] or Origin[\"From\"]\n",
    "new_block[\"From\"] = From['email']\n",
    "new_block[\"Cc\"] = groupEmail\n",
    "# new_block[\"Delivered-To\"] = From[\"email\"]\n",
    "    \n",
    "#add attachment\n",
    "part = MIMEApplication(open(Images[0][\"path\"],'rb').read(),'image/jpeg') \n",
    "part.add_header('Content-Disposition', 'attachment', filename=Images[0][\"name\"])\n",
    "del part['Content-Type']\n",
    "part.add_header('Content-Type','image/jpeg', name=Images[0][\"name\"])"
   ]
  },
  {
   "cell_type": "code",
   "execution_count": 13,
   "metadata": {
    "collapsed": false
   },
   "outputs": [],
   "source": [
    ""
   ]
  },
  {
   "cell_type": "code",
   "execution_count": 13,
   "metadata": {
    "collapsed": true
   },
   "outputs": [
    {
     "ename": "NameError",
     "evalue": "name 'part' is not defined",
     "traceback": [
      "\u001b[0;31m---------------------------------------------------------------------------\u001b[0m",
      "\u001b[0;31mNameError\u001b[0m                                 Traceback (most recent call last)",
      "\u001b[0;32m<ipython-input-13-d53d90e27e96>\u001b[0m in \u001b[0;36m<module>\u001b[0;34m()\u001b[0m\n\u001b[1;32m      4\u001b[0m \u001b[0;34m\u001b[0m\u001b[0m\n\u001b[1;32m      5\u001b[0m \u001b[0mnew_block\u001b[0m\u001b[0;34m.\u001b[0m\u001b[0mattach\u001b[0m\u001b[0;34m(\u001b[0m\u001b[0mmulti1\u001b[0m\u001b[0;34m)\u001b[0m\u001b[0;34m\u001b[0m\u001b[0m\n\u001b[0;32m----> 6\u001b[0;31m \u001b[0mnew_block\u001b[0m\u001b[0;34m.\u001b[0m\u001b[0mattach\u001b[0m\u001b[0;34m(\u001b[0m\u001b[0mpart\u001b[0m\u001b[0;34m)\u001b[0m\u001b[0;34m\u001b[0m\u001b[0m\n\u001b[0m",
      "\u001b[0;31mNameError\u001b[0m: name 'part' is not defined"
     ],
     "output_type": "error"
    }
   ],
   "source": [
    "multi1 = MIMEMultipart('alternative')\n",
    "multi1.attach(text_block)\n",
    "multi1.attach(html_block)\n",
    "\n",
    "new_block.attach(multi1)\n",
    "new_block.attach(part)"
   ]
  },
  {
   "cell_type": "code",
   "execution_count": 14,
   "metadata": {
    "collapsed": false,
    "scrolled": true
   },
   "outputs": [
    {
     "name": "stdout",
     "output_type": "stream",
     "text": [
      "Content-Type: multipart/mixed; boundary=\"===============4323144486227110698==\"\nMIME-Version: 1.0\nMessage-ID: <149570558508.19939.17783463233052267298@Sissys-Mac.local>\n\n--===============4323144486227110698==\nContent-Type: multipart/alternative; boundary=\"===============6986415698954643445==\"\nMIME-Version: 1.0\n\n--===============6986415698954643445==\nContent-Type: text/plain; charset=\"utf-8\"\nMIME-Version: 1.0\nContent-Transfer-Encoding: quoted-printable\n\n\n--===============6986415698954643445==\nContent-Type: text/html; charset=\"utf-8\"\nMIME-Version: 1.0\nContent-Transfer-Encoding: quoted-printable\n\n\n--===============6986415698954643445==--\n\n--===============4323144486227110698==--\n\n"
     ]
    }
   ],
   "source": [
    "print(new_block.as_string())"
   ]
  },
  {
   "cell_type": "code",
   "execution_count": 15,
   "metadata": {
    "collapsed": false
   },
   "outputs": [
    {
     "data": {
      "text/plain": [
       "<function print>"
      ]
     },
     "execution_count": 15,
     "metadata": {},
     "output_type": "execute_result"
    }
   ],
   "source": [
    "print"
   ]
  },
  {
   "cell_type": "code",
   "execution_count": 16,
   "metadata": {
    "collapsed": false
   },
   "outputs": [
    {
     "ename": "NameError",
     "evalue": "name 'Origin' is not defined",
     "traceback": [
      "\u001b[0;31m---------------------------------------------------------------------------\u001b[0m",
      "\u001b[0;31mNameError\u001b[0m                                 Traceback (most recent call last)",
      "\u001b[0;32m<ipython-input-16-0ebfcf49b114>\u001b[0m in \u001b[0;36m<module>\u001b[0;34m()\u001b[0m\n\u001b[0;32m----> 1\u001b[0;31m \u001b[0mprint\u001b[0m\u001b[0;34m(\u001b[0m\u001b[0mOrigin\u001b[0m\u001b[0;34m.\u001b[0m\u001b[0mas_string\u001b[0m\u001b[0;34m(\u001b[0m\u001b[0;34m)\u001b[0m\u001b[0;34m)\u001b[0m\u001b[0;34m\u001b[0m\u001b[0m\n\u001b[0m",
      "\u001b[0;31mNameError\u001b[0m: name 'Origin' is not defined"
     ],
     "output_type": "error"
    }
   ],
   "source": [
    "print(Origin.as_string())"
   ]
  },
  {
   "cell_type": "code",
   "execution_count": 17,
   "metadata": {
    "collapsed": false
   },
   "outputs": [
    {
     "ename": "TypeError",
     "evalue": "Can't convert 'bytes' object to str implicitly",
     "traceback": [
      "\u001b[0;31m---------------------------------------------------------------------------\u001b[0m",
      "\u001b[0;31mTypeError\u001b[0m                                 Traceback (most recent call last)",
      "\u001b[0;32m<ipython-input-17-2ab82975b481>\u001b[0m in \u001b[0;36m<module>\u001b[0;34m()\u001b[0m\n\u001b[1;32m      1\u001b[0m \u001b[0mserver\u001b[0m \u001b[0;34m=\u001b[0m \u001b[0msmtplib\u001b[0m\u001b[0;34m.\u001b[0m\u001b[0mSMTP\u001b[0m\u001b[0;34m(\u001b[0m\u001b[0;34m'smtp.gmail.com'\u001b[0m\u001b[0;34m,\u001b[0m \u001b[0;36m587\u001b[0m\u001b[0;34m)\u001b[0m\u001b[0;34m\u001b[0m\u001b[0m\n\u001b[1;32m      2\u001b[0m \u001b[0mserver\u001b[0m\u001b[0;34m.\u001b[0m\u001b[0mstarttls\u001b[0m\u001b[0;34m(\u001b[0m\u001b[0;34m)\u001b[0m\u001b[0;34m\u001b[0m\u001b[0m\n\u001b[0;32m----> 3\u001b[0;31m \u001b[0mserver\u001b[0m\u001b[0;34m.\u001b[0m\u001b[0mlogin\u001b[0m\u001b[0;34m(\u001b[0m\u001b[0mFrom\u001b[0m\u001b[0;34m[\u001b[0m\u001b[0;34m\"email\"\u001b[0m\u001b[0;34m]\u001b[0m\u001b[0;34m,\u001b[0m \u001b[0mFrom\u001b[0m\u001b[0;34m[\u001b[0m\u001b[0;34m\"googlePassword\"\u001b[0m\u001b[0;34m]\u001b[0m\u001b[0;34m)\u001b[0m\u001b[0;34m\u001b[0m\u001b[0m\n\u001b[0m\u001b[1;32m      4\u001b[0m \u001b[0mserver\u001b[0m\u001b[0;34m.\u001b[0m\u001b[0msend_message\u001b[0m\u001b[0;34m(\u001b[0m\u001b[0mnew_block\u001b[0m\u001b[0;34m)\u001b[0m\u001b[0;34m\u001b[0m\u001b[0m\n\u001b[1;32m      5\u001b[0m \u001b[0mserver\u001b[0m\u001b[0;34m.\u001b[0m\u001b[0mquit\u001b[0m\u001b[0;34m(\u001b[0m\u001b[0;34m)\u001b[0m\u001b[0;34m\u001b[0m\u001b[0m\n",
      "\u001b[0;32m//anaconda/lib/python3.5/smtplib.py\u001b[0m in \u001b[0;36mlogin\u001b[0;34m(self, user, password, initial_response_ok)\u001b[0m\n\u001b[1;32m    718\u001b[0m                 (code, resp) = self.auth(\n\u001b[1;32m    719\u001b[0m                     \u001b[0mauthmethod\u001b[0m\u001b[0;34m,\u001b[0m \u001b[0mgetattr\u001b[0m\u001b[0;34m(\u001b[0m\u001b[0mself\u001b[0m\u001b[0;34m,\u001b[0m \u001b[0mmethod_name\u001b[0m\u001b[0;34m)\u001b[0m\u001b[0;34m,\u001b[0m\u001b[0;34m\u001b[0m\u001b[0m\n\u001b[0;32m--> 720\u001b[0;31m                     initial_response_ok=initial_response_ok)\n\u001b[0m\u001b[1;32m    721\u001b[0m                 \u001b[0;31m# 235 == 'Authentication successful'\u001b[0m\u001b[0;34m\u001b[0m\u001b[0;34m\u001b[0m\u001b[0m\n\u001b[1;32m    722\u001b[0m                 \u001b[0;31m# 503 == 'Error: already authenticated'\u001b[0m\u001b[0;34m\u001b[0m\u001b[0;34m\u001b[0m\u001b[0m\n",
      "\u001b[0;32m//anaconda/lib/python3.5/smtplib.py\u001b[0m in \u001b[0;36mauth\u001b[0;34m(self, mechanism, authobject, initial_response_ok)\u001b[0m\n\u001b[1;32m    628\u001b[0m         \u001b[0;32mif\u001b[0m \u001b[0minitial_response\u001b[0m \u001b[0;32mis\u001b[0m \u001b[0;32mnot\u001b[0m \u001b[0;32mNone\u001b[0m\u001b[0;34m:\u001b[0m\u001b[0;34m\u001b[0m\u001b[0m\n\u001b[1;32m    629\u001b[0m             \u001b[0mresponse\u001b[0m \u001b[0;34m=\u001b[0m \u001b[0mencode_base64\u001b[0m\u001b[0;34m(\u001b[0m\u001b[0minitial_response\u001b[0m\u001b[0;34m.\u001b[0m\u001b[0mencode\u001b[0m\u001b[0;34m(\u001b[0m\u001b[0;34m'ascii'\u001b[0m\u001b[0;34m)\u001b[0m\u001b[0;34m,\u001b[0m \u001b[0meol\u001b[0m\u001b[0;34m=\u001b[0m\u001b[0;34m''\u001b[0m\u001b[0;34m)\u001b[0m\u001b[0;34m\u001b[0m\u001b[0m\n\u001b[0;32m--> 630\u001b[0;31m             \u001b[0;34m(\u001b[0m\u001b[0mcode\u001b[0m\u001b[0;34m,\u001b[0m \u001b[0mresp\u001b[0m\u001b[0;34m)\u001b[0m \u001b[0;34m=\u001b[0m \u001b[0mself\u001b[0m\u001b[0;34m.\u001b[0m\u001b[0mdocmd\u001b[0m\u001b[0;34m(\u001b[0m\u001b[0;34m\"AUTH\"\u001b[0m\u001b[0;34m,\u001b[0m \u001b[0mmechanism\u001b[0m \u001b[0;34m+\u001b[0m \u001b[0;34m\" \"\u001b[0m \u001b[0;34m+\u001b[0m \u001b[0mresponse\u001b[0m\u001b[0;34m)\u001b[0m\u001b[0;34m\u001b[0m\u001b[0m\n\u001b[0m\u001b[1;32m    631\u001b[0m         \u001b[0;32melse\u001b[0m\u001b[0;34m:\u001b[0m\u001b[0;34m\u001b[0m\u001b[0m\n\u001b[1;32m    632\u001b[0m             \u001b[0;34m(\u001b[0m\u001b[0mcode\u001b[0m\u001b[0;34m,\u001b[0m \u001b[0mresp\u001b[0m\u001b[0;34m)\u001b[0m \u001b[0;34m=\u001b[0m \u001b[0mself\u001b[0m\u001b[0;34m.\u001b[0m\u001b[0mdocmd\u001b[0m\u001b[0;34m(\u001b[0m\u001b[0;34m\"AUTH\"\u001b[0m\u001b[0;34m,\u001b[0m \u001b[0mmechanism\u001b[0m\u001b[0;34m)\u001b[0m\u001b[0;34m\u001b[0m\u001b[0m\n",
      "\u001b[0;31mTypeError\u001b[0m: Can't convert 'bytes' object to str implicitly"
     ],
     "output_type": "error"
    }
   ],
   "source": [
    "server = smtplib.SMTP('smtp.gmail.com', 587)\n",
    "server.starttls()\n",
    "server.login(From[\"email\"], From[\"googlePassword\"])\n",
    "server.send_message(new_block)\n",
    "server.quit()\n",
    "\n",
    "print (\"success!\")"
   ]
  },
  {
   "cell_type": "code",
   "execution_count": null,
   "metadata": {
    "collapsed": false
   },
   "outputs": [],
   "source": [
    "def filter(txt, oldfile, newfile):\n",
    "    '''\\\n",
    "    Read a list of names from a file line by line into an output file.\n",
    "    If a line begins with a particular name, insert a string of text\n",
    "    after the name before appending the line to the output file.\n",
    "    '''\n",
    "\n",
    "    outfile = open(newfile, 'w')\n",
    "    with open(oldfile, 'r', encoding='utf-8') as infile:\n",
    "        for line in infile:\n",
    "            if line.startswith(txt):\n",
    "                line = line[0:len(txt)] + ' - Truly a great person!\\n'\n",
    "            outfile.write(line)\n",
    "\n",
    "    outfile.close()\n",
    "    return # Do I gain anything by including this?\n",
    "\n",
    "# input the name you want to check against\n",
    "text = input('Please enter the name of a great person: ')    \n",
    "letsgo = filter(text,'Spanish', 'Spanish2')"
   ]
  },
  {
   "cell_type": "code",
   "execution_count": 18,
   "metadata": {
    "collapsed": false
   },
   "outputs": [
    {
     "ename": "IndentationError",
     "evalue": "unexpected indent (<ipython-input-18-a9e388133be0>, line 2)",
     "traceback": [
      "\u001b[0;36m  File \u001b[0;32m\"<ipython-input-18-a9e388133be0>\"\u001b[0;36m, line \u001b[0;32m2\u001b[0m\n\u001b[0;31m    import requests\u001b[0m\n\u001b[0m    ^\u001b[0m\n\u001b[0;31mIndentationError\u001b[0m\u001b[0;31m:\u001b[0m unexpected indent\n"
     ],
     "output_type": "error"
    }
   ],
   "source": [
    "from requests.auth import HTTPBasicAuth\n",
    "        import requests\n",
    "        user=account['User1']\n",
    "  "
   ]
  },
  {
   "cell_type": "code",
   "execution_count": 11,
   "metadata": {
    "collapsed": false
   },
   "outputs": [
    {
     "name": "stdout",
     "output_type": "stream",
     "text": [
      "401\n"
     ]
    }
   ],
   "source": [
    "contentSubject= 'Discussion and reply with attachment from Email2017-03-07T19:51:33.921180'\n",
    "        url = apiUrl + \"/search/contents?filter=search('%s')&filter=subjectonly(true)\" % (contentSubject)\n",
    "        BasicAuth=HTTPBasicAuth(user[\"username\"], user[\"password\"])\n",
    "        r = requests.get(url, auth=BasicAuth)\n",
    "        print (r.status_code)\n",
    "#         assert r.status_code == 200"
   ]
  },
  {
   "cell_type": "code",
   "execution_count": 14,
   "metadata": {
    "collapsed": false
   },
   "outputs": [
    {
     "name": "stdout",
     "output_type": "stream",
     "text": [
      "https://thoughtworks-preview.jiveon.com/api/core/v3/search/contents?filter=search('Discussion and reply with attachment from Email2017-03-07T19:51:33.921180')&filter=subjectonly(true)\n",
      "<Response [401]>\n"
     ]
    }
   ],
   "source": [
    "print (url)\n",
    "        print (r)"
   ]
  },
  {
   "cell_type": "code",
   "execution_count": null,
   "metadata": {
    "collapsed": true
   },
   "outputs": [],
   "source": [
    "if not jiveHelper.isOnlyResult(r):\n",
    "            print('findContentBySubject has no result or more than one')\n",
    "            return None\n",
    "        return r.json()['list'][0]"
   ]
  }
 ],
 "metadata": {
  "anaconda-cloud": {},
  "kernelspec": {
   "display_name": "Python [conda root]",
   "language": "python",
   "name": "conda-root-py"
  },
  "language_info": {
   "codemirror_mode": {
    "name": "ipython",
    "version": 3.0
   },
   "file_extension": ".py",
   "mimetype": "text/x-python",
   "name": "python",
   "nbconvert_exporter": "python",
   "pygments_lexer": "ipython3",
   "version": "3.5.2"
  }
 },
 "nbformat": 4,
 "nbformat_minor": 0
}