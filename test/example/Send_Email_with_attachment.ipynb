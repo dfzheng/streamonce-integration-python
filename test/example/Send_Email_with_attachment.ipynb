{
 "cells": [
  {
   "cell_type": "code",
   "execution_count": null,
   "metadata": {
    "collapsed": false
   },
   "outputs": [],
   "source": [
    "import sys\n",
    "sys.path.insert(0,'../..')\n",
    "from test.helper.jiveHelper import jiveHelper\n",
    "from test.helper import sendMailHelper\n",
    "from test.helper import config\n",
    "from test.helper import CheckEmailHelper\n",
    "from test.helper import sendMailHelper\n",
    "from test.helper import config\n",
    "import unittest\n",
    "import datetime\n",
    "import pdb\n",
    "import json"
   ]
  },
  {
   "cell_type": "code",
   "execution_count": null,
   "metadata": {
    "collapsed": false
   },
   "outputs": [],
   "source": [
    "directory = '/Users/wxji/Documents/Connect/streamonce-integration-python'\n",
    "with open(directory + '/accounts.json') as json_data:\n",
    "       account = json.load(json_data)\n",
    "TempAccount = account\n",
    "\n",
    "testSubject = \"Discussion and reply with attachment from Email\" + datetime.datetime.now().isoformat()\n",
    "\n",
    "attachmentName = \"attachmentDiscussion.jpg\"\n",
    "attachments = [{\n",
    "            \"doUpload\": True,\n",
    "            \"name\": attachmentName,\n",
    "            \"url\": \"http://pics.sc.chinaz.com/files/pic/pic9/201508/apic14052.jpg\"\n",
    "        }]\n",
    "\n",
    "        \n",
    "text = '''\n",
    "          After a growth interval, the polyp begins reproducing asexually by budding and, in the Scyphozoa, is called a segmenting polyp,\n",
    "        or a scyphistoma. Budding produces more scyphistomae and also ephyrae. Budding sites vary by species; from the tentacle bulbs,\n",
    "        the manubrium (above the mouth), or the gonads of hydromedusae.[51] Polyps asexually produce free-swimming ephyra,\n",
    "        which then become a medusa. New specimens (usually only a millimeter or two across) swim away from the polyp and then grow.\n",
    "        Some polyps can asexually produce a creeping frustule larval form, which then develops into another polyp.\n",
    "        '''\n",
    "\n",
    "html=\"\"\"\n",
    "<html>\n",
    "<body>\n",
    "<div>\n",
    "<p>\n",
    "\n",
    "</p>\n",
    "</div>\n",
    "</body></html>\"\"\"\n",
    " \n",
    "preamble = 'Should had an Attachment with Email(discussion)'"
   ]
  },
  {
   "cell_type": "code",
   "execution_count": null,
   "metadata": {
    "collapsed": false
   },
   "outputs": [],
   "source": [
    "class EmailwithAttachment():\n",
    "    \n",
    "    #     with open(directory + '/env.json') as json_data:  # os.getcwd() Return the current working directory\n",
    "    #     env = json.load(json_data)  \n",
    "    #Send an Email with attachment test\n",
    "    def test_shouldHaveNotificationOnJiveWithAttachment():        \n",
    "        #Send discussion in Email as User1\n",
    "        sendMailHelper.SendEmail(Subject=testSubject, From=TempAccount[\"User1\"], To=config.group['groupKey'], Attachment=attachments, Preamble=preamble, TEXT=text, HTML=html, ReplyTo=[], useAlias=False);"
   ]
  },
  {
   "cell_type": "code",
   "execution_count": null,
   "metadata": {
    "collapsed": false
   },
   "outputs": [],
   "source": [
    ""
   ]
  },
  {
   "cell_type": "code",
   "execution_count": null,
   "metadata": {
    "collapsed": false
   },
   "outputs": [],
   "source": [
    "jivea = jiveHelper.findContentBySubject(contentSubject=testSubject)"
   ]
  },
  {
   "cell_type": "code",
   "execution_count": null,
   "metadata": {
    "collapsed": false
   },
   "outputs": [],
   "source": [
    "#Check on Jive with subject & attachment\n",
    "        jive_admin = jiveHelper.findContentAsUserBySubject(user=TempAccount['User1'],contentSubject=testSubject)"
   ]
  },
  {
   "cell_type": "code",
   "execution_count": null,
   "metadata": {
    "collapsed": true
   },
   "outputs": [],
   "source": [
    ""
   ]
  },
  {
   "cell_type": "code",
   "execution_count": null,
   "metadata": {
    "collapsed": false
   },
   "outputs": [],
   "source": [
    "# print (TempAccount['User5'])"
   ]
  },
  {
   "cell_type": "code",
   "execution_count": null,
   "metadata": {
    "collapsed": true
   },
   "outputs": [],
   "source": [
    "#start to debug\n",
    "        pdb.set_trace()\n",
    "\n",
    "        self.assertEqual(jive1['subject'],EmailwithAttachment.testSubject)\n",
    "        self.assertEqual(jive2['subject'],EmailwithAttachment.testSubject)\n",
    "        # self.assertEqual(jive4['subject'],EmailwithAttachment.testSubject)\n",
    "        self.assertEqual(jive5['subject'],EmailwithAttachment.testSubject)"
   ]
  },
  {
   "cell_type": "code",
   "execution_count": null,
   "metadata": {
    "collapsed": true
   },
   "outputs": [],
   "source": [
    "self.assertEqual(jive1.get_payload()[0][\"Content-Disposition\"], 'attachment; filename='+attachmentName)\n",
    "        self.assertEqual(jive2.get_payload()[0][\"Content-Disposition\"], 'attachment; filename='+attachmentName)\n",
    "        # self.assertEqual(jive4.get_payload()[0][\"Content-Disposition\"], 'attachment; filename='+attachmentName)\n",
    "        self.assertEqual(jive5.get_payload()[0][\"Content-Disposition\"], 'attachment; filename='+attachmentName)"
   ]
  }
 ],
 "metadata": {
  "anaconda-cloud": {},
  "kernelspec": {
   "display_name": "Python [default]",
   "language": "python",
   "name": "python3"
  },
  "language_info": {
   "codemirror_mode": {
    "name": "ipython",
    "version": 3.0
   },
   "file_extension": ".py",
   "mimetype": "text/x-python",
   "name": "python",
   "nbconvert_exporter": "python",
   "pygments_lexer": "ipython3",
   "version": "3.5.2"
  }
 },
 "nbformat": 4,
 "nbformat_minor": 0
}