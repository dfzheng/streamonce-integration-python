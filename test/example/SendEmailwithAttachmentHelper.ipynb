{
 "cells": [
  {
   "cell_type": "code",
   "execution_count": 1,
   "metadata": {
    "collapsed": true
   },
   "outputs": [],
   "source": [
    "import smtplib\n",
    "import os\n",
    "import json\n",
    "from email.mime.image       import MIMEImage\n",
    "from email.mime.multipart   import MIMEMultipart\n",
    "from email.mime.text        import MIMEText\n",
    "from email.mime.message     import MIMEMessage\n",
    "from email.mime.application import MIMEApplication\n",
    "import sys\n",
    "sys.path.insert(0,'../..')\n",
    "from test.helper import CheckEmailHelper\n",
    "from os.path import basename\n",
    "from test.helper import config\n",
    "import email\n",
    "import uuid\n",
    "import pdb\n",
    "import re\n",
    "import datetime\n",
    "from bs4 import BeautifulSoup"
   ]
  },
  {
   "cell_type": "code",
   "execution_count": 2,
   "metadata": {
    "collapsed": true
   },
   "outputs": [],
   "source": [
    "HOST = 'imap.gmail.com'\n",
    "\n",
    "directory =\"/Users/wxji/Documents/Connect/streamonce-integration-python\"\n",
    "with open(directory + '/env.json') as json_data:  # os.getcwd() Return the current working directory\n",
    "    env = json.load(json_data)\n",
    "\n",
    "with open(directory + '/accounts.json') as json_data:\n",
    "    account = json.load(json_data)"
   ]
  },
  {
   "cell_type": "code",
   "execution_count": 3,
   "metadata": {
    "collapsed": false
   },
   "outputs": [
    {
     "name": "stdout",
     "output_type": "stream",
     "text": [
      "streamonce-automation@dev.thoughtworks.com\n"
     ]
    }
   ],
   "source": [
    "attachmentName = \"attachmentDiscussion.jpg\"\n",
    "attachments = [{\n",
    "            \"doUpload\": True,\n",
    "            \"name\": attachmentName,\n",
    "            \"url\": \"http://pics.sc.chinaz.com/files/pic/pic9/201508/apic14052.jpg\"\n",
    "        }]\n",
    "\n",
    "preamble = \"Should had an Attachment with Email(discussion)\";\n",
    "text = '''\n",
    "          After a growth interval, the polyp begins reproducing asexually by budding and, in the Scyphozoa, is called a segmenting polyp,\n",
    "        or a scyphistoma. Budding produces more scyphistomae and also ephyrae. Budding sites vary by species; from the tentacle bulbs,\n",
    "        the manubrium (above the mouth), or the gonads of hydromedusae.[51] Polyps asexually produce free-swimming ephyra,\n",
    "        which then become a medusa. New specimens (usually only a millimeter or two across) swim away from the polyp and then grow.\n",
    "        Some polyps can asexually produce a creeping frustule larval form, which then develops into another polyp.\n",
    "        '''\n",
    "\n",
    "html=\"\"\"\n",
    "<html>\n",
    "<body>\n",
    "<div>\n",
    "<p>\n",
    "\n",
    "</p>\n",
    "</div>\n",
    "</body></html>\"\"\"\n",
    "\n",
    "account = config.account\n",
    "group = config.group\n",
    "print (group['groupKey'])"
   ]
  },
  {
   "cell_type": "code",
   "execution_count": 4,
   "metadata": {
    "collapsed": false
   },
   "outputs": [
    {
     "name": "stdout",
     "output_type": "stream",
     "text": [
      "Sending mail From:  , Subject: Discussion and reply with attachment by Email2017-05-25T17:34:04.666870\n",
      "Content-Type: multipart/mixed; boundary=\"===============8363374253972077357==\"\n",
      "MIME-Version: 1.0\n",
      "Subject: Discussion and reply with attachment by Email2017-05-25T17:34:04.666870\n",
      "To: streamonce-automation@dev.thoughtworks.com\n",
      "To: streamonce-automation@dev.thoughtworks.com\n",
      "Delivered-To: \n",
      "From:  <>\n",
      "Content-Disposition: attachment; filename=\"attachmentDiscussion.jpg\"\n",
      "\n",
      "Should had an Attachment with Email(discussion)\n",
      "--===============8363374253972077357==\n",
      "Content-Type: text/plain; charset=\"utf-8\"\n",
      "MIME-Version: 1.0\n",
      "Content-Transfer-Encoding: base64\n",
      "\n",
      "CiAgICAgICAgICBBZnRlciBhIGdyb3d0aCBpbnRlcnZhbCwgdGhlIHBvbHlwIGJlZ2lucyByZXBy\n",
      "b2R1Y2luZyBhc2V4dWFsbHkgYnkgYnVkZGluZyBhbmQsIGluIHRoZSBTY3lwaG96b2EsIGlzIGNh\n",
      "bGxlZCBhIHNlZ21lbnRpbmcgcG9seXAsCiAgICAgICAgb3IgYSBzY3lwaGlzdG9tYS4gQnVkZGlu\n",
      "ZyBwcm9kdWNlcyBtb3JlIHNjeXBoaXN0b21hZSBhbmQgYWxzbyBlcGh5cmFlLiBCdWRkaW5nIHNp\n",
      "dGVzIHZhcnkgYnkgc3BlY2llczsgZnJvbSB0aGUgdGVudGFjbGUgYnVsYnMsCiAgICAgICAgdGhl\n",
      "IG1hbnVicml1bSAoYWJvdmUgdGhlIG1vdXRoKSwgb3IgdGhlIGdvbmFkcyBvZiBoeWRyb21lZHVz\n",
      "YWUuWzUxXSBQb2x5cHMgYXNleHVhbGx5IHByb2R1Y2UgZnJlZS1zd2ltbWluZyBlcGh5cmEsCiAg\n",
      "ICAgICAgd2hpY2ggdGhlbiBiZWNvbWUgYSBtZWR1c2EuIE5ldyBzcGVjaW1lbnMgKHVzdWFsbHkg\n",
      "b25seSBhIG1pbGxpbWV0ZXIgb3IgdHdvIGFjcm9zcykgc3dpbSBhd2F5IGZyb20gdGhlIHBvbHlw\n",
      "IGFuZCB0aGVuIGdyb3cuCiAgICAgICAgU29tZSBwb2x5cHMgY2FuIGFzZXh1YWxseSBwcm9kdWNl\n",
      "IGEgY3JlZXBpbmcgZnJ1c3R1bGUgbGFydmFsIGZvcm0sIHdoaWNoIHRoZW4gZGV2ZWxvcHMgaW50\n",
      "byBhbm90aGVyIHBvbHlwLgogICAgICAgIA==\n",
      "\n",
      "--===============8363374253972077357==\n",
      "Content-Type: text/html; charset=\"utf-8\"\n",
      "MIME-Version: 1.0\n",
      "Content-Transfer-Encoding: base64\n",
      "\n",
      "CjxodG1sPgo8Ym9keT4KPGRpdj4KPHA+Cgo8L3A+CjwvZGl2Pgo8L2JvZHk+PC9odG1sPg==\n",
      "\n",
      "--===============8363374253972077357==--\n",
      "\n"
     ]
    }
   ],
   "source": [
    "Subject = \"Discussion and reply with attachment by Email\" + datetime.datetime.now().isoformat()\n",
    "From=account[\"User1\"]\n",
    "To=group['groupKey']\n",
    "TEXT = text\n",
    "HTML = html\n",
    "Preamble = \"Should had an Attachment with Email(discussion)\";\n",
    "Attachment=attachments\n",
    "ReplyTo=[]\n",
    "useAlias=False\n",
    "\n",
    "if len(To) == 0:\n",
    "        raise Exception(\"no reciever\")\n",
    "\n",
    "print('Sending mail From: %s , Subject: %s' % (From[\"email\"], Subject))\n",
    "\n",
    "    # To = \", \".join(To)\n",
    "\n",
    "msg = MIMEMultipart()\n",
    "msg['Subject'] = Subject\n",
    "msg['To'] = To\n",
    "msg['To'] = msg['To'].replace(\",\",\" \")\n",
    "msg['Delivered-To'] = From[\"email\"]\n",
    "\n",
    "if useAlias==False:\n",
    "    msg['From'] =  From[\"displayName\"] + \" <\"+From[\"email\"] +\">\"\n",
    "else:\n",
    "    msg['From'] = From[\"displayName\"] + \" <\"+From[\"alias\"] +\">\"\n",
    "\n",
    "\n",
    "\n",
    "if len(ReplyTo) > 0:\n",
    "    msg.add_header('reply-to', \", \".join(ReplyTo))\n",
    "\n",
    "msg.preamble = Preamble\n",
    "\n",
    "if len(TEXT) > 0:\n",
    "    msg.attach(MIMEText(TEXT, 'plain', 'utf-8'))\n",
    "if len(HTML) > 0:\n",
    "    msg.attach(MIMEText(HTML, 'html', 'utf-8'))\n",
    "\n",
    "if len(TEXT) == 0 and len(HTML) == 0:\n",
    "    msg.attach(MIMEText(\"Empty Email\", 'plain', 'utf-8'))\n",
    "\n",
    "if len(Attachment) > 0:\n",
    "    msg.add_header(\"Content-Disposition\",\"attachment\", filename=Attachment[0][\"name\"])\n",
    "\n",
    "print (msg)"
   ]
  },
  {
   "cell_type": "code",
   "execution_count": 5,
   "metadata": {
    "collapsed": false
   },
   "outputs": [
    {
     "ename": "TypeError",
     "evalue": "Can't convert 'bytes' object to str implicitly",
     "traceback": [
      "\u001b[0;31m---------------------------------------------------------------------------\u001b[0m",
      "\u001b[0;31mTypeError\u001b[0m                                 Traceback (most recent call last)",
      "\u001b[0;32m<ipython-input-5-ee1c578fb2dc>\u001b[0m in \u001b[0;36m<module>\u001b[0;34m()\u001b[0m\n\u001b[1;32m      2\u001b[0m \u001b[0mserver\u001b[0m \u001b[0;34m=\u001b[0m \u001b[0msmtplib\u001b[0m\u001b[0;34m.\u001b[0m\u001b[0mSMTP\u001b[0m\u001b[0;34m(\u001b[0m\u001b[0;34m'smtp.gmail.com'\u001b[0m\u001b[0;34m,\u001b[0m \u001b[0;36m587\u001b[0m\u001b[0;34m)\u001b[0m\u001b[0;34m\u001b[0m\u001b[0m\n\u001b[1;32m      3\u001b[0m \u001b[0mserver\u001b[0m\u001b[0;34m.\u001b[0m\u001b[0mstarttls\u001b[0m\u001b[0;34m(\u001b[0m\u001b[0;34m)\u001b[0m\u001b[0;34m\u001b[0m\u001b[0m\n\u001b[0;32m----> 4\u001b[0;31m \u001b[0mserver\u001b[0m\u001b[0;34m.\u001b[0m\u001b[0mlogin\u001b[0m\u001b[0;34m(\u001b[0m\u001b[0mFrom\u001b[0m\u001b[0;34m[\u001b[0m\u001b[0;34m\"email\"\u001b[0m\u001b[0;34m]\u001b[0m\u001b[0;34m,\u001b[0m \u001b[0mFrom\u001b[0m\u001b[0;34m[\u001b[0m\u001b[0;34m\"googlePassword\"\u001b[0m\u001b[0;34m]\u001b[0m\u001b[0;34m)\u001b[0m\u001b[0;34m\u001b[0m\u001b[0m\n\u001b[0m\u001b[1;32m      5\u001b[0m \u001b[0mserver\u001b[0m\u001b[0;34m.\u001b[0m\u001b[0msend_message\u001b[0m\u001b[0;34m(\u001b[0m\u001b[0mmsg\u001b[0m\u001b[0;34m)\u001b[0m\u001b[0;34m\u001b[0m\u001b[0m\n\u001b[1;32m      6\u001b[0m \u001b[0mserver\u001b[0m\u001b[0;34m.\u001b[0m\u001b[0mquit\u001b[0m\u001b[0;34m(\u001b[0m\u001b[0;34m)\u001b[0m\u001b[0;34m\u001b[0m\u001b[0m\n",
      "\u001b[0;32m//anaconda/lib/python3.5/smtplib.py\u001b[0m in \u001b[0;36mlogin\u001b[0;34m(self, user, password, initial_response_ok)\u001b[0m\n\u001b[1;32m    718\u001b[0m                 (code, resp) = self.auth(\n\u001b[1;32m    719\u001b[0m                     \u001b[0mauthmethod\u001b[0m\u001b[0;34m,\u001b[0m \u001b[0mgetattr\u001b[0m\u001b[0;34m(\u001b[0m\u001b[0mself\u001b[0m\u001b[0;34m,\u001b[0m \u001b[0mmethod_name\u001b[0m\u001b[0;34m)\u001b[0m\u001b[0;34m,\u001b[0m\u001b[0;34m\u001b[0m\u001b[0m\n\u001b[0;32m--> 720\u001b[0;31m                     initial_response_ok=initial_response_ok)\n\u001b[0m\u001b[1;32m    721\u001b[0m                 \u001b[0;31m# 235 == 'Authentication successful'\u001b[0m\u001b[0;34m\u001b[0m\u001b[0;34m\u001b[0m\u001b[0m\n\u001b[1;32m    722\u001b[0m                 \u001b[0;31m# 503 == 'Error: already authenticated'\u001b[0m\u001b[0;34m\u001b[0m\u001b[0;34m\u001b[0m\u001b[0m\n",
      "\u001b[0;32m//anaconda/lib/python3.5/smtplib.py\u001b[0m in \u001b[0;36mauth\u001b[0;34m(self, mechanism, authobject, initial_response_ok)\u001b[0m\n\u001b[1;32m    628\u001b[0m         \u001b[0;32mif\u001b[0m \u001b[0minitial_response\u001b[0m \u001b[0;32mis\u001b[0m \u001b[0;32mnot\u001b[0m \u001b[0;32mNone\u001b[0m\u001b[0;34m:\u001b[0m\u001b[0;34m\u001b[0m\u001b[0m\n\u001b[1;32m    629\u001b[0m             \u001b[0mresponse\u001b[0m \u001b[0;34m=\u001b[0m \u001b[0mencode_base64\u001b[0m\u001b[0;34m(\u001b[0m\u001b[0minitial_response\u001b[0m\u001b[0;34m.\u001b[0m\u001b[0mencode\u001b[0m\u001b[0;34m(\u001b[0m\u001b[0;34m'ascii'\u001b[0m\u001b[0;34m)\u001b[0m\u001b[0;34m,\u001b[0m \u001b[0meol\u001b[0m\u001b[0;34m=\u001b[0m\u001b[0;34m''\u001b[0m\u001b[0;34m)\u001b[0m\u001b[0;34m\u001b[0m\u001b[0m\n\u001b[0;32m--> 630\u001b[0;31m             \u001b[0;34m(\u001b[0m\u001b[0mcode\u001b[0m\u001b[0;34m,\u001b[0m \u001b[0mresp\u001b[0m\u001b[0;34m)\u001b[0m \u001b[0;34m=\u001b[0m \u001b[0mself\u001b[0m\u001b[0;34m.\u001b[0m\u001b[0mdocmd\u001b[0m\u001b[0;34m(\u001b[0m\u001b[0;34m\"AUTH\"\u001b[0m\u001b[0;34m,\u001b[0m \u001b[0mmechanism\u001b[0m \u001b[0;34m+\u001b[0m \u001b[0;34m\" \"\u001b[0m \u001b[0;34m+\u001b[0m \u001b[0mresponse\u001b[0m\u001b[0;34m)\u001b[0m\u001b[0;34m\u001b[0m\u001b[0m\n\u001b[0m\u001b[1;32m    631\u001b[0m         \u001b[0;32melse\u001b[0m\u001b[0;34m:\u001b[0m\u001b[0;34m\u001b[0m\u001b[0m\n\u001b[1;32m    632\u001b[0m             \u001b[0;34m(\u001b[0m\u001b[0mcode\u001b[0m\u001b[0;34m,\u001b[0m \u001b[0mresp\u001b[0m\u001b[0;34m)\u001b[0m \u001b[0;34m=\u001b[0m \u001b[0mself\u001b[0m\u001b[0;34m.\u001b[0m\u001b[0mdocmd\u001b[0m\u001b[0;34m(\u001b[0m\u001b[0;34m\"AUTH\"\u001b[0m\u001b[0;34m,\u001b[0m \u001b[0mmechanism\u001b[0m\u001b[0;34m)\u001b[0m\u001b[0;34m\u001b[0m\u001b[0m\n",
      "\u001b[0;31mTypeError\u001b[0m: Can't convert 'bytes' object to str implicitly"
     ],
     "output_type": "error"
    }
   ],
   "source": [
    "server = smtplib.SMTP('smtp.gmail.com', 587)\n",
    "server.starttls()\n",
    "server.login(From[\"email\"], From[\"googlePassword\"])\n",
    "server.send_message(msg)\n",
    "server.quit()"
   ]
  },
  {
   "cell_type": "code",
   "execution_count": null,
   "metadata": {
    "collapsed": true
   },
   "outputs": [],
   "source": [
    ""
   ]
  }
 ],
 "metadata": {
  "anaconda-cloud": {},
  "kernelspec": {
   "display_name": "Python [default]",
   "language": "python",
   "name": "python3"
  },
  "language_info": {
   "codemirror_mode": {
    "name": "ipython",
    "version": 3
   },
   "file_extension": ".py",
   "mimetype": "text/x-python",
   "name": "python",
   "nbconvert_exporter": "python",
   "pygments_lexer": "ipython3",
   "version": "3.5.2"
  }
 },
 "nbformat": 4,
 "nbformat_minor": 0
}
